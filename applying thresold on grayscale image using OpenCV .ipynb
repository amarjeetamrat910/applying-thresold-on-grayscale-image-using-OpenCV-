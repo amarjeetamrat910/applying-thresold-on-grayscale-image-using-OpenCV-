{
 "cells": [
  {
   "cell_type": "code",
   "execution_count": 1,
   "id": "3d7801b0",
   "metadata": {},
   "outputs": [],
   "source": [
    "import pandas as pd\n",
    "import numpy as np\n",
    "import cv2\n"
   ]
  },
  {
   "cell_type": "code",
   "execution_count": null,
   "id": "0cf29858",
   "metadata": {},
   "outputs": [],
   "source": [
    "import cv2\n",
    "\n",
    "cam = cv2.VideoCapture(0)\n",
    "\n",
    "while True:\n",
    "    ret, img = cam.read()\n",
    "    resized = cv2.resize(img, (int(780/2), int(540)))\n",
    "    gray_sc=cv2.cvtColor(resized, cv2.COLOR_BGR2GRAY)\n",
    "    gray_sc[gray_sc>200]=10 ##[gray_sc > 200]: This part selects the pixels in the grayscale image that have intensity values greater than 200. \n",
    "                           ##This creates a boolean mask where True indicates that the corresponding pixel value is greater than 200, \n",
    "                          ##and False indicates otherwise.\n",
    "\n",
    "= 10: This part assigns a new value of 10 to the selected pixels. In other words, it changes the intensity value of the selected pixels to 10, effectively altering their appearance in the image.\n",
    "                            ##\n",
    "    \n",
    "    \n",
    "    \n",
    "    cv2.imshow(\"original image\", img)\n",
    "    cv2.imshow(\"resized\", resized)\n",
    "    cv2.imshow(\"gray\", gray_sc)\n",
    "\n",
    "    if cv2.waitKey(1) == 27:  \n",
    "        cam.release()\n",
    "        cv2.destroyAllWindows()  \n",
    "        break\n"
   ]
  },
  {
   "cell_type": "code",
   "execution_count": null,
   "id": "f53bf2c6",
   "metadata": {},
   "outputs": [],
   "source": []
  },
  {
   "cell_type": "code",
   "execution_count": null,
   "id": "595c88d5",
   "metadata": {},
   "outputs": [],
   "source": []
  },
  {
   "cell_type": "code",
   "execution_count": null,
   "id": "8dd6d0d8",
   "metadata": {},
   "outputs": [],
   "source": []
  },
  {
   "cell_type": "code",
   "execution_count": null,
   "id": "5006270c",
   "metadata": {},
   "outputs": [],
   "source": []
  }
 ],
 "metadata": {
  "kernelspec": {
   "display_name": "Python 3 (ipykernel)",
   "language": "python",
   "name": "python3"
  },
  "language_info": {
   "codemirror_mode": {
    "name": "ipython",
    "version": 3
   },
   "file_extension": ".py",
   "mimetype": "text/x-python",
   "name": "python",
   "nbconvert_exporter": "python",
   "pygments_lexer": "ipython3",
   "version": "3.11.4"
  }
 },
 "nbformat": 4,
 "nbformat_minor": 5
}
